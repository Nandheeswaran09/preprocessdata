{
 "cells": [
  {
   "cell_type": "code",
   "execution_count": 15,
   "id": "3dbfb662",
   "metadata": {},
   "outputs": [
    {
     "name": "stdout",
     "output_type": "stream",
     "text": [
      "[3 4 5 6]\n",
      "[[[1 2 3 4]\n",
      "  [6 7 8 9]]\n",
      "\n",
      " [[4 5 6 7]\n",
      "  [6 7 8 9]]]\n",
      "3\n",
      "(2, 2, 4)\n",
      "16\n",
      "int32\n"
     ]
    }
   ],
   "source": [
    "import numpy as np \n",
    "\n",
    "arr=np.array([3,4,5,6])\n",
    "arr2d=np.array([[[1,2,3,4],[6,7,8,9,]],[[4,5,6,7],[6,7,8,9]]])\n",
    "print(arr)\n",
    "print(arr2d)\n",
    "print(arr2d.ndim)\n",
    "print(arr2d.shape)\n",
    "print(arr2d.size)\n",
    "print(arr2d.dtype)"
   ]
  },
  {
   "cell_type": "code",
   "execution_count": 33,
   "id": "5f3f3e6e",
   "metadata": {},
   "outputs": [
    {
     "name": "stdout",
     "output_type": "stream",
     "text": [
      "[0. 0. 0. 0. 0.]\n",
      "[[1. 1. 1.]\n",
      " [1. 1. 1.]]\n",
      "[ 0  3  6  9 12 15 18]\n",
      "[0.  0.2 0.4 0.6 0.8 1. ]\n",
      "[0.37417116 0.28020627 0.59290045 0.09507886 0.39580052]\n",
      "[[0.31642991 0.94420351 0.94517967]\n",
      " [0.36148111 0.37102154 0.22538595]\n",
      " [0.26312908 0.95556152 0.3850527 ]]\n"
     ]
    }
   ],
   "source": [
    "#array creation\n",
    "a=np.zeros(5)\n",
    "print(a)\n",
    "b=np.ones((2,3))\n",
    "print(b)\n",
    "arrange=np.arange(0,20,3)\n",
    "print(arrange)\n",
    "\n",
    "line=np.linspace(0,1,6)\n",
    "print(line)\n",
    "\n",
    "rand=np.random.rand(5)\n",
    "print(rand)\n",
    "mat=np.random.rand(3,3)\n",
    "print(mat)"
   ]
  },
  {
   "cell_type": "code",
   "execution_count": 34,
   "id": "3b9da556",
   "metadata": {},
   "outputs": [
    {
     "name": "stdout",
     "output_type": "stream",
     "text": [
      "[0. 0. 0. 0. 0. 0. 0.]\n"
     ]
    }
   ],
   "source": [
    "#NumPy Small Practical Quiz\n",
    "#Q1.Create a 1D NumPy array of 7 zeros. Which function will you use?\n",
    "\n",
    "q1=np.zeros(7)\n",
    "print(q1)\n"
   ]
  },
  {
   "cell_type": "code",
   "execution_count": 35,
   "id": "6e3b2938",
   "metadata": {},
   "outputs": [
    {
     "name": "stdout",
     "output_type": "stream",
     "text": [
      "[10.  12.5 15.  17.5 20. ]\n"
     ]
    }
   ],
   "source": [
    "#You want to create 5 numbers evenly spaced between 10 and 20. Which function will you use?\n",
    "sep=np.linspace(10,20,5)\n",
    "print(sep)"
   ]
  },
  {
   "cell_type": "code",
   "execution_count": 37,
   "id": "a6aaff6a",
   "metadata": {},
   "outputs": [
    {
     "name": "stdout",
     "output_type": "stream",
     "text": [
      "[[0.71829665 0.28176361 0.13875968 0.34228084]\n",
      " [0.87421953 0.1889903  0.11927434 0.53555269]]\n"
     ]
    }
   ],
   "source": [
    "#Q4.Create a 2x4 array filled with random decimal numbers between 0 and 1.\n",
    "arr=np.random.rand(2,4)\n",
    "print(arr)"
   ]
  },
  {
   "cell_type": "code",
   "execution_count": 62,
   "id": "a2414eed",
   "metadata": {},
   "outputs": [
    {
     "name": "stdout",
     "output_type": "stream",
     "text": [
      "[90 88 75 88 51 86]\n"
     ]
    }
   ],
   "source": [
    "#Q5.How would you create an array of 6 random integers between 50 and 100?\n",
    "ran=np.random.randint(50,100,6)\n",
    "print(ran)"
   ]
  },
  {
   "cell_type": "code",
   "execution_count": 63,
   "id": "21039b95",
   "metadata": {},
   "outputs": [
    {
     "name": "stdout",
     "output_type": "stream",
     "text": [
      "79.66666666666667\n",
      "478\n",
      "13.719410418171117\n",
      "90\n"
     ]
    }
   ],
   "source": [
    "#array operation\n",
    "mean=np.mean(ran)\n",
    "print(mean)\n",
    "\n",
    "sum=np.sum(ran)\n",
    "print(sum)\n",
    "\n",
    "std=np.std(ran)\n",
    "print(std)\n",
    "\n",
    "max=np.max(ran)\n",
    "print(max)"
   ]
  },
  {
   "cell_type": "code",
   "execution_count": 64,
   "id": "1c424edb",
   "metadata": {},
   "outputs": [
    {
     "name": "stdout",
     "output_type": "stream",
     "text": [
      "[[90 88 75]\n",
      " [88 51 86]]\n",
      "[90 88 75 88 51 86]\n",
      "[[90 88]\n",
      " [88 51]\n",
      " [75 86]]\n",
      "None\n"
     ]
    }
   ],
   "source": [
    "#reshaping and resizing\n",
    "\n",
    "res=ran.reshape(2,3)\n",
    "print(res)\n",
    "\n",
    "flat=res.ravel()\n",
    "print(flat)\n",
    "\n",
    "tran=res.transpose()\n",
    "print(tran)\n",
    "\n",
    "resiz=res.resize(3,2)\n",
    "print(resiz)"
   ]
  },
  {
   "cell_type": "code",
   "execution_count": 92,
   "id": "b83d81d2",
   "metadata": {},
   "outputs": [
    {
     "name": "stdout",
     "output_type": "stream",
     "text": [
      "[6 7 3 1 5 2 4 6]\n",
      "[array([6, 7, 3, 1]), array([], dtype=int32), array([3, 1]), array([], dtype=int32), array([], dtype=int32)]\n"
     ]
    }
   ],
   "source": [
    "#arrayconcentation and splitting\n",
    "art=np.random.randint(1,8,4)\n",
    "b=np.random.randint(1,8,4)\n",
    "\n",
    "print(np.concatenate((art,b)))\n",
    "\n",
    "\n",
    "split=np.split(art,b)\n",
    "print(split)"
   ]
  },
  {
   "cell_type": "code",
   "execution_count": 106,
   "id": "cb546873",
   "metadata": {},
   "outputs": [
    {
     "name": "stdout",
     "output_type": "stream",
     "text": [
      "[1 3 6 7]\n",
      "[2 4 5 6]\n",
      "[13 48 17 33 42]\n",
      "[0 1 0 1 1]\n",
      "[50 48 17 33 42]\n"
     ]
    }
   ],
   "source": [
    "#usefullfunction\n",
    "\n",
    "print(np.unique(art))\n",
    "print(np.sort(b))\n",
    "\n",
    "\n",
    "where=np.random.randint(10,50,5)\n",
    "print(where)\n",
    "print(np.where(where > 25,1,0))\n",
    "\n",
    "b=np.copy(where)\n",
    "b[0]=50\n",
    "print(b)"
   ]
  },
  {
   "cell_type": "code",
   "execution_count": 117,
   "id": "f1f12277",
   "metadata": {},
   "outputs": [
    {
     "name": "stdout",
     "output_type": "stream",
     "text": [
      "[2 5 0 5 0 1]\n",
      "[[1. 1. 1.]\n",
      " [1. 1. 1.]\n",
      " [1. 1. 1.]]\n",
      "12\n",
      "5\n",
      "[99 39 24 82 33 68 38 29 59 76]\n",
      "[1 2 3 4 5]\n"
     ]
    }
   ],
   "source": [
    "#Easy Level\n",
    "#Create an array of numbers from 0 to 10.\n",
    "\n",
    "e=np.random.randint(0,10,6)\n",
    "\n",
    "print(np.array(e))\n",
    "\n",
    "\n",
    "#Create a 3x3 matrix filled with ones.\n",
    "print(np.ones((3,3)))\n",
    "\n",
    "#Find the maximum and minimum value in the array [4, 7, 1, 9, 12].'\n",
    "print(np.max((4,7,1,9,12)))\n",
    "print(np.max(e))\n",
    "\n",
    "#Create an array of 10 random integers between 1 and 100.\n",
    "print(np.random.randint(0,100,10))\n",
    "\n",
    "#Find unique elements in the array [1, 2, 2, 3, 4, 4, 5].\n",
    "print(np.unique((1,2,2,3,4,4,5)))"
   ]
  },
  {
   "cell_type": "code",
   "execution_count": 175,
   "id": "27894f43",
   "metadata": {},
   "outputs": [
    {
     "name": "stdout",
     "output_type": "stream",
     "text": [
      "[[48 20 39]\n",
      " [33 34  5]\n",
      " [ 3 14 34]]\n",
      "even number [48 20 34 14 34]\n",
      "[ 3  5 14 20 33 34 34 39 48]\n",
      "[array([48, 20, 39]), array([33, 34,  5]), array([ 3, 14, 34])]\n",
      "[[48]\n",
      " [20]\n",
      " [39]\n",
      " [33]\n",
      " [34]\n",
      " [ 5]\n",
      " [ 3]\n",
      " [14]\n",
      " [34]]\n"
     ]
    }
   ],
   "source": [
    "#medium level\n",
    "#Reshape a 1D array of 9 elements into a 3x3 matrix.\n",
    "\n",
    "m=np.random.randint(0,50,9)\n",
    "\n",
    "print(m.reshape(3,3))\n",
    "\n",
    "#Select all even numbers from an array [5, 6, 7, 8, 9, 10].\n",
    "print(\"even number\",m[m%2==0])\n",
    "\n",
    "#Sort the array [8, 3, 1, 5, 9] in ascending order.\n",
    "print(np.sort(m))\n",
    "\n",
    "#Split the array [1,2,3,4,5,6,7,8,9] into 3 equal parts.\n",
    "print(np.split(m,3))\n",
    "\n",
    "#Stack two arrays [1,2,3] and [4,5,6] vertically.\n",
    "print(np.vstack(m))"
   ]
  },
  {
   "cell_type": "code",
   "execution_count": 179,
   "id": "fa1a952c",
   "metadata": {},
   "outputs": [
    {
     "name": "stdout",
     "output_type": "stream",
     "text": [
      "[10  1 10  1 10 10 10 10 10 10 10 10 10 10 10 10  1 10 10 10 10  1 10 10\n",
      "  1]\n",
      "0.40667628486411894\n",
      "[[0.57138118 0.4540497  0.47971519 0.37271876]\n",
      " [0.08713456 0.44327703 0.94768569 0.07888351]\n",
      " [0.29083456 0.54192318 0.57652995 0.18181448]]\n",
      "[[0.95096941 0.0894482  0.95806661]\n",
      " [0.26886839 0.02344682 0.520732  ]\n",
      " [0.15328233 0.10803456 0.40133418]]\n",
      "[[0.96165852 0.84261554 0.16951905]\n",
      " [0.49415387 0.67580246 0.91298393]\n",
      " [0.61166944 0.89992453 0.29827595]]\n",
      "1.9357369295601976\n"
     ]
    }
   ],
   "source": [
    "#hardlevel\n",
    "\n",
    "h=np.random.randint(0,50,25)\n",
    "#Replace all values greater than 10 in an array with 10.\n",
    "print(np.where(h>10,10,1))\n",
    "\n",
    "#Create a 5x5 matrix with random numbers and find the mean of each row.\n",
    "a=np.random.rand(5,5)\n",
    "print(np.mean(a))\n",
    "\n",
    "#Transpose a 4x3 random matrix.\n",
    "arr=np.random.rand(4,3)\n",
    "\n",
    "transpose=arr.T #.t is shorcutr for transpose\n",
    "print(transpose)\n",
    "\n",
    "\n",
    "#Broadcast an array of shape (3,) to a matrix of shape (3, 3).\n",
    "sha=np.random.rand(3,3)\n",
    "print(sha)\n",
    "\n",
    "#Given a 2D matrix, find the sum of the diagonal elements.\n",
    "f=np.random.rand(3,3)\n",
    "print(f)\n",
    "print(np.trace(f))"
   ]
  },
  {
   "cell_type": "code",
   "execution_count": 186,
   "id": "8517adf1",
   "metadata": {},
   "outputs": [
    {
     "name": "stdout",
     "output_type": "stream",
     "text": [
      "[[1. 1. 1. 1. 1. 1.]\n",
      " [1. 0. 0. 0. 0. 1.]\n",
      " [1. 0. 0. 0. 0. 1.]\n",
      " [1. 0. 0. 0. 0. 1.]\n",
      " [1. 0. 0. 0. 0. 1.]\n",
      " [1. 1. 1. 1. 1. 1.]]\n"
     ]
    }
   ],
   "source": [
    "matrix=np.ones((6,6))\n",
    "\n",
    "\n",
    "matrix[1:-1,1:-1] =0\n",
    "print(matrix)"
   ]
  }
 ],
 "metadata": {
  "kernelspec": {
   "display_name": "Python 3",
   "language": "python",
   "name": "python3"
  },
  "language_info": {
   "codemirror_mode": {
    "name": "ipython",
    "version": 3
   },
   "file_extension": ".py",
   "mimetype": "text/x-python",
   "name": "python",
   "nbconvert_exporter": "python",
   "pygments_lexer": "ipython3",
   "version": "3.12.10"
  }
 },
 "nbformat": 4,
 "nbformat_minor": 5
}
